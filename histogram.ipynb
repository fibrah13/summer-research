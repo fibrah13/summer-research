{
 "cells": [
  {
   "cell_type": "code",
   "execution_count": 19,
   "metadata": {
    "collapsed": true
   },
   "outputs": [],
   "source": [
    "use Modern::Perl;\n",
    "use HackaMol;\n",
    "use POSIX;\n",
    "use YAML::XS qw(Dump DumpFile);\n",
    "use Time::HiRes qw(time);\n",
    "\n"
   ]
  },
  {
   "cell_type": "code",
   "execution_count": 7,
   "metadata": {
    "collapsed": false
   },
   "outputs": [
    {
     "name": "stderr",
     "output_type": "stream",
     "text": [
      "HackaMol::Molecule=HASH(0x7fcb8e30bb68)\n"
     ]
    }
   ],
   "source": [
    "my $mol = HackaMol->new->read_file_mol('cystine.xyz');"
   ]
  },
  {
   "cell_type": "code",
   "execution_count": 16,
   "metadata": {
    "collapsed": false,
    "scrolled": true
   },
   "outputs": [
    {
     "data": {
      "text/plain": [
       "7472\n",
       "7472\n",
       "12\n",
       "\n",
       "  N   2.171494  -1.037885  -2.082470\n",
       "  C   1.356494  -1.557885  -0.949470\n",
       "  C   1.979494  -2.769885  -0.356470\n",
       "  O   2.020494  -2.939885   0.900530\n",
       "  C  -0.099506  -1.856885  -1.297470\n",
       "  S  -0.980506  -0.409885  -1.900470\n",
       "  N   0.915494   1.328115   1.957530\n",
       "  C   0.158494   2.364115   1.317530\n",
       "  C  -1.105506   2.745115   2.048530\n",
       "  O  -1.548506   1.897115   2.852530\n",
       "  C  -0.233506   1.869115  -0.135470\n",
       "  S  -1.373506   0.506115  -0.152470\n",
       "12\n",
       "\n",
       "  N  -2.345483  -0.247640   3.482699\n",
       "  C  -1.467483  -0.186640   2.314699\n",
       "  C  -0.286483   0.773360   2.434699\n",
       "  O   0.865517   0.397360   2.204699\n",
       "  C  -2.293483   0.211360   1.088699\n",
       "  S  -1.313483   0.705360  -0.368301\n",
       "  N   3.407517  -1.065640  -1.425301\n",
       "  C   2.041517  -0.605640  -1.656301\n",
       "  C   1.986517   0.918360  -1.705301\n",
       "  O   1.296517   1.504360  -2.541301\n",
       "  C   1.109517  -1.126640  -0.565301\n",
       "  S  -0.637483  -1.074640  -1.078301\n"
      ]
     },
     "execution_count": 16,
     "metadata": {},
     "output_type": "execute_result"
    },
    {
     "name": "stderr",
     "output_type": "stream",
     "text": [
      "GLOB(0x7fcb8b02a9d8)\n"
     ]
    }
   ],
   "source": [
    "say $mol->t; \n",
    "say $mol->tmax;\n",
    "$mol->print_xyz;\n",
    "$mol->t(0);\n",
    "$mol->print_xyz;"
   ]
  },
  {
   "cell_type": "code",
   "execution_count": 17,
   "metadata": {
    "collapsed": false,
    "scrolled": true
   },
   "outputs": [
    {
     "name": "stderr",
     "output_type": "stream",
     "text": [
      "1\n"
     ]
    }
   ],
   "source": [
    "my ($dihe) = HackaMol::Dihedral->new(\n",
    "    atoms=> [\n",
    "         $mol->get_atoms(4), \n",
    "         $mol->get_atoms(5), \n",
    "         $mol->get_atoms(11),\n",
    "         $mol->get_atoms(10) \n",
    "    ]\n",
    "    ); 1"
   ]
  },
  {
   "cell_type": "code",
   "execution_count": 27,
   "metadata": {
    "collapsed": false
   },
   "outputs": [
    {
     "data": {
      "text/plain": [
       "---\n",
       "d.-10:\n",
       "  d.-10: 267\n",
       "d.-11:\n",
       "  d.-11: 37\n",
       "d.-12:\n",
       "  d.-12: 22\n",
       "d.-13:\n",
       "  d.-13: 10\n",
       "d.-14:\n",
       "  d.-14: 2\n",
       "d.-15:\n",
       "  d.-15: 2\n",
       "d.-16:\n",
       "  d.-16: 5\n",
       "d.-17:\n",
       "  d.-17: 1\n",
       "d.-2:\n",
       "  d.-2: 2\n",
       "d.-4:\n",
       "  d.-4: 5\n",
       "d.-5:\n",
       "  d.-5: 22\n",
       "d.-6:\n",
       "  d.-6: 141\n",
       "d.-7:\n",
       "  d.-7: 842\n",
       "d.-8:\n",
       "  d.-8: 1761\n",
       "d.-9:\n",
       "  d.-9: 928\n",
       "d.0:\n",
       "  d.0: 1\n",
       "d.10:\n",
       "  d.10: 1244\n",
       "d.11:\n",
       "  d.11: 805\n",
       "d.12:\n",
       "  d.12: 185\n",
       "d.13:\n",
       "  d.13: 26\n",
       "d.14:\n",
       "  d.14: 9\n",
       "d.15:\n",
       "  d.15: 2\n",
       "d.16:\n",
       "  d.16: 4\n",
       "d.17:\n",
       "  d.17: 1\n",
       "d.18:\n",
       "  d.18: 6\n",
       "d.2:\n",
       "  d.2: 1\n",
       "d.3:\n",
       "  d.3: 2\n",
       "d.4:\n",
       "  d.4: 2\n",
       "d.5:\n",
       "  d.5: 6\n",
       "d.6:\n",
       "  d.6: 12\n",
       "d.7:\n",
       "  d.7: 108\n",
       "d.8:\n",
       "  d.8: 346\n",
       "d.9:\n",
       "  d.9: 666\n"
      ]
     },
     "execution_count": 27,
     "metadata": {},
     "output_type": "execute_result"
    },
    {
     "name": "stderr",
     "output_type": "stream",
     "text": [
      "1\n"
     ]
    }
   ],
   "source": [
    "my %results = ();\n",
    "\n",
    "foreach my $t (0 .. $mol->tmax){\n",
    "    $mol->t($t);\n",
    "    my $val1 = ceil($dihe->dihe_deg/10); \n",
    "    my $val2 = ceil($dihe->dihe_deg/10); \n",
    "    $results{\"d.$val1\"}{\"d.$val2\"}++;\n",
    "}\n",
    "\n",
    "print Dump \\%results;\n"
   ]
  },
  {
   "cell_type": "code",
   "execution_count": 2,
   "metadata": {
    "collapsed": false
   },
   "outputs": [
    {
     "ename": "Error",
     "evalue": "pass type: xtals nmrs at reply input line 3.\n",
     "output_type": "error",
     "traceback": [
      "pass type: xtals nmrs at reply input line 3.\n"
     ]
    }
   ],
   "source": [
    "my $t1 = time;\n",
    "\n",
    "my $type = shift or die \"pass type: xtals nmrs\";\n",
    "my $work = HackaMol->new( data    => \"$type\\_clusters\",\n",
    "                          scratch => \"results/$type\" );\n",
    "\n",
    "my @pdbs = $work->data->children(qr/\\.pdb/);\n",
    "\n",
    "$work->scratch->mkpath unless $work->scratch->exists;\n",
    "\n",
    "my @aas = mce_map{\n",
    "    my $fpdb = $_;\n",
    "    my $hack = HackaMol->new( name => \"hackitup\" );\n",
    "    my @aas  = map  {$_->aa321}\n",
    "               grep {$_->name eq 'CA' } $hack->read_file_atoms($fpdb);\n",
    "}@pdbs;\n",
    "my %aa ;\n",
    "$aa{$_}++ foreach @aas;\n",
    "$aa{C} -= 2*scalar(@pdbs); # do not include the disulfide itself\n",
    "\n",
    "my @a = qw/\n",
    "L V I Y F W A P G M \n",
    "S T Q N H K R D E C\n",
    "/;\n",
    "\n",
    "my $t = 0;\n",
    "\n",
    "$t += $aa{$_} foreach @a;\n",
    "\n",
    "\n",
    "printf( \"%8.3f\\n\", $aa{$_}/$t) foreach @a;\n",
    "#printf( \"%5s %8.6f %5i\\n\", $_, $aa1{$_}/$t,  $aa1{$_}) foreach @a;"
   ]
  },
  {
   "cell_type": "code",
   "execution_count": 3,
   "metadata": {
    "collapsed": false
   },
   "outputs": [
    {
     "data": {
      "text/plain": [
       "/Users/chem_student/Fadilahs_Space/devel/HackaMol-CaseStudy/Survey_PDBdisulfide\n"
      ]
     },
     "execution_count": 3,
     "metadata": {},
     "output_type": "execute_result"
    },
    {
     "name": "stderr",
     "output_type": "stream",
     "text": [
      "0\n"
     ]
    }
   ],
   "source": [
    "system (\"pwd\")"
   ]
  },
  {
   "cell_type": "code",
   "execution_count": null,
   "metadata": {
    "collapsed": true
   },
   "outputs": [],
   "source": []
  }
 ],
 "metadata": {
  "kernelspec": {
   "display_name": "IPerl 0.005",
   "language": "perl",
   "name": "iperl"
  },
  "language": "Perl",
  "language_info": {
   "name": "perl",
   "version": "5...2.0...1"
  }
 },
 "nbformat": 4,
 "nbformat_minor": 0
}
